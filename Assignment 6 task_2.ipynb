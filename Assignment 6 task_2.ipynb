{
 "cells": [
  {
   "cell_type": "markdown",
   "id": "17d98513-728c-4554-b6a0-2b1f4a523fb5",
   "metadata": {},
   "source": [
    "**Assignment 6**\n",
    "\n",
    "**Image and Video Analytics**\n",
    "\n",
    "**Vishali Sharma**\n",
    "\n",
    "**21MIA1066**\n",
    "\n",
    "Task 2: Strategic Marketing – Peak Shopping Duration"
   ]
  },
  {
   "cell_type": "markdown",
   "id": "94e047f3-c632-4872-8c52-308923e62d27",
   "metadata": {},
   "source": [
    "Objective:\n",
    "Analyze a video of a shopping area to identify the peak duration when the most people are shopping."
   ]
  },
  {
   "cell_type": "markdown",
   "id": "ce8b362a-d926-4841-9878-97cf74543d8e",
   "metadata": {},
   "source": [
    "**Task Description:**\n",
    "\n",
    "**Load Video:**\n",
    "\n",
    "**Load the surveillance video from a shopping area.**"
   ]
  },
  {
   "cell_type": "markdown",
   "id": "723cd4e2-bee7-483d-8eb8-fbc04be1ef43",
   "metadata": {},
   "source": [
    "**People Detection:**\n",
    "\n",
    "**Use frame differencing or optical flow to detect motion and identify people entering the frame.**\n",
    "\n",
    "**Count the number of people in each frame based on detected regions.**"
   ]
  },
  {
   "cell_type": "markdown",
   "id": "761d0e21-fd7b-4f96-9bd6-20dd3736e52a",
   "metadata": {},
   "source": [
    "**Peak Duration Identification:**\n",
    "\n",
    "**Calculate the total number of people in the shopping area for each time period (e.g., 10-minute intervals).**\n",
    "                                                           \n",
    "**Plot the number of people over time and identify the time interval with the highest count of people.**"
   ]
  },
  {
   "cell_type": "markdown",
   "id": "70daa18c-5eea-4416-a320-184765c37e40",
   "metadata": {},
   "source": [
    "**Result:**\n",
    "\n",
    "**Provide a summary of the peak shopping duration and display the corresponding frames from the video.**"
   ]
  },
  {
   "cell_type": "code",
   "execution_count": 1,
   "id": "7beca857-c704-4795-b34c-e820c89e2adc",
   "metadata": {},
   "outputs": [
    {
     "data": {
      "image/png": "[encoded data removed]",
      "text/plain": [
       "<Figure size 1000x500 with 1 Axes>"
      ]
     },
     "metadata": {},
     "output_type": "display_data"
    },
    {
     "name": "stdout",
     "output_type": "stream",
     "text": [
      "The peak shopping duration is at interval 0 with 1210 people.\n"
     ]
    }
   ],
   "source": [
    "#pip install opencv-python matplotlib\n",
    "\n",
    "import cv2\n",
    "import numpy as np\n",
    "import matplotlib.pyplot as plt\n",
    "from collections import defaultdict\n",
    "\n",
    "# Load the video file\n",
    "video_path = \"task_2.mp4\"\n",
    "cap = cv2.VideoCapture(video_path)\n",
    "\n",
    "# Initialize background subtractor\n",
    "back_sub = cv2.createBackgroundSubtractorMOG2(history=500, varThreshold=50, detectShadows=True)\n",
    "\n",
    "# Variables to track people count\n",
    "frame_rate = cap.get(cv2.CAP_PROP_FPS)\n",
    "interval_duration = 10 * 60  # 10 minutes in seconds\n",
    "frames_per_interval = int(interval_duration * frame_rate)\n",
    "\n",
    "people_counts = defaultdict(int)  # Stores counts for each interval\n",
    "interval_index = 0\n",
    "frame_count = 0\n",
    "\n",
    "# Process each frame\n",
    "while cap.isOpened():\n",
    "    ret, frame = cap.read()\n",
    "    if not ret:\n",
    "        break\n",
    "\n",
    "    # Apply background subtraction\n",
    "    fg_mask = back_sub.apply(frame)\n",
    "    \n",
    "    # Threshold to binary\n",
    "    _, fg_mask = cv2.threshold(fg_mask, 200, 255, cv2.THRESH_BINARY)\n",
    "    \n",
    "    # Find contours of moving objects\n",
    "    contours, _ = cv2.findContours(fg_mask, cv2.RETR_EXTERNAL, cv2.CHAIN_APPROX_SIMPLE)\n",
    "    people_in_frame = 0\n",
    "\n",
    "    for cnt in contours:\n",
    "        if cv2.contourArea(cnt) < 1000:  # Ignore small contours\n",
    "            continue\n",
    "\n",
    "        # Get bounding box around the person\n",
    "        x, y, w, h = cv2.boundingRect(cnt)\n",
    "        people_in_frame += 1\n",
    "\n",
    "        # Draw bounding box\n",
    "        cv2.rectangle(frame, (x, y), (x + w, y + h), (0, 255, 0), 2)\n",
    "\n",
    "    # Count people in current interval\n",
    "    people_counts[interval_index] += people_in_frame\n",
    "\n",
    "    # Show frame with bounding boxes\n",
    "    cv2.imshow(\"People Detection\", frame)\n",
    "    if cv2.waitKey(1) & 0xFF == ord('q'):\n",
    "        break\n",
    "\n",
    "    # Move to the next interval if necessary\n",
    "    frame_count += 1\n",
    "    if frame_count >= frames_per_interval:\n",
    "        interval_index += 1\n",
    "        frame_count = 0\n",
    "\n",
    "cap.release()\n",
    "cv2.destroyAllWindows()\n",
    "\n",
    "# Plot people counts over time intervals\n",
    "intervals = list(people_counts.keys())\n",
    "counts = list(people_counts.values())\n",
    "\n",
    "plt.figure(figsize=(10, 5))\n",
    "plt.plot(intervals, counts, marker='o', color='b')\n",
    "plt.title(\"People Count Over Time\")\n",
    "plt.xlabel(\"Time Interval (10-min intervals)\")\n",
    "plt.ylabel(\"People Count\")\n",
    "plt.grid(True)\n",
    "plt.show()\n",
    "\n",
    "# Find peak interval\n",
    "peak_interval = max(people_counts, key=people_counts.get)\n",
    "print(f\"The peak shopping duration is at interval {peak_interval} with {people_counts[peak_interval]} people.\")"
   ]
  },
  {
   "cell_type": "code",
   "execution_count": null,
   "id": "42c66d18-2c87-415e-8719-98c286a156dd",
   "metadata": {},
   "outputs": [],
   "source": []
  }
 ],
 "metadata": {
  "kernelspec": {
   "display_name": "Python 3 (ipykernel)",
   "language": "python",
   "name": "python3"
  },
  "language_info": {
   "codemirror_mode": {
    "name": "ipython",
    "version": 3
   },
   "file_extension": ".py",
   "mimetype": "text/x-python",
   "name": "python",
   "nbconvert_exporter": "python",
   "pygments_lexer": "ipython3",
   "version": "3.11.7"
  }
 },
 "nbformat": 4,
 "nbformat_minor": 5
}
