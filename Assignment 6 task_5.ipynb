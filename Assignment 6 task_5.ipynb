{
 "cells": [
  {
   "cell_type": "markdown",
   "id": "d56efcf9-4c6f-45a0-ae3f-4c5a04e4f1da",
   "metadata": {},
   "source": [
    "**Assignment 6**\n",
    "\n",
    "**Image and Video Analytics**\n",
    "\n",
    "**Vishali Sharma**\n",
    "\n",
    "**21MIA1066**\n",
    "\n",
    "Task 5: Dwelling Time in a Shopping Mall"
   ]
  },
  {
   "cell_type": "markdown",
   "id": "e99747cd-5044-42ca-b81f-6c6057013341",
   "metadata": {},
   "source": [
    "Objective:\n",
    "Measure the amount of time a person or object dwells in a certain area of the shopping mall using video footage."
   ]
  },
  {
   "cell_type": "markdown",
   "id": "e7b1843c-0619-4477-97f9-6b0285771b10",
   "metadata": {},
   "source": [
    "**Task Description:**\n",
    "\n",
    "**Load Video:**\n",
    "\n",
    "**Load the surveillance video of the shopping mall.**"
   ]
  },
  {
   "cell_type": "markdown",
   "id": "184f61a8-f03d-4091-8c88-d48c20a1c486",
   "metadata": {},
   "source": [
    "**Object/Person Detection:**\n",
    "\n",
    "**Use background subtraction or motion detection to detect and track objects or people in the video.**"
   ]
  },
  {
   "cell_type": "markdown",
   "id": "3917d89a-ed69-4ade-ad24-b86c1cd94591",
   "metadata": {},
   "source": [
    "**Dwelling Time Calculation:**\n",
    "\n",
    "**Set a region of interest (ROI) in the video representing a specific area of the mall.**\n",
    "\n",
    "**Track the time each detected person/object spends in the ROI.**\n"
   ]
  },
  {
   "cell_type": "markdown",
   "id": "edb3abfa-08e8-483e-80ad-b5c68528031b",
   "metadata": {},
   "source": [
    "**Result:**\n",
    "\n",
    "**Display the total dwelling time for each person/object detected in the ROI**"
   ]
  },
  {
   "cell_type": "code",
   "execution_count": 4,
   "id": "36529445-a452-477d-9aec-d45a4c4fc035",
   "metadata": {},
   "outputs": [],
   "source": [
    "import cv2\n",
    "import time\n",
    "\n",
    "# Load video\n",
    "cap = cv2.VideoCapture('shoppinginndout.mp4')\n",
    "\n",
    "# Initialize background subtractor\n",
    "backSub = cv2.createBackgroundSubtractorMOG2()\n",
    "\n",
    "# Define the ROI\n",
    "x1, y1, x2, y2 = , 200, 300, 400  # Example coordinates\n",
    "roi = (x1, y1, x2, y2)\n",
    "\n",
    "# Initialize tracking data\n",
    "dwell_times = {}\n",
    "min_area = 500  # Minimum area to filter small objects (adjust as needed)\n",
    "\n",
    "while cap.isOpened():\n",
    "    ret, frame = cap.read()\n",
    "    if not ret:\n",
    "        break\n",
    "\n",
    "    # Apply background subtraction\n",
    "    fg_mask = backSub.apply(frame)\n",
    "\n",
    "    # Detect contours in the foreground mask\n",
    "    contours, _ = cv2.findContours(fg_mask, cv2.RETR_EXTERNAL, cv2.CHAIN_APPROX_SIMPLE)\n",
    "\n",
    "    for contour in contours:\n",
    "        if cv2.contourArea(contour) > min_area:  # Filter out small areas\n",
    "            x, y, w, h = cv2.boundingRect(contour)\n",
    "            obj_id = (x, y, w, h)  # Assign unique ID based on bounding box\n",
    "\n",
    "            # Check if the object is in the ROI\n",
    "            if x1 < x < x2 and y1 < y < y2:\n",
    "                if obj_id not in dwell_times:\n",
    "                    dwell_times[obj_id] = time.time()  # Start timer\n",
    "            elif obj_id in dwell_times:\n",
    "                # Calculate time spent in ROI\n",
    "                dwell_time = time.time() - dwell_times[obj_id]\n",
    "                print(f\"Object {obj_id} dwell time: {dwell_time:.2f} seconds\")\n",
    "                del dwell_times[obj_id]  # Remove after calculating\n",
    "\n",
    "    # Display the ROI\n",
    "    cv2.rectangle(frame, (x1, y1), (x2, y2), (0, 255, 0), 2)\n",
    "    cv2.imshow('Mall Surveillance', frame)\n",
    "\n",
    "    if cv2.waitKey(30) & 0xFF == ord('q'):\n",
    "        break\n",
    "\n",
    "cap.release()\n",
    "cv2.destroyAllWindows()\n"
   ]
  },
  {
   "cell_type": "code",
   "execution_count": null,
   "id": "f51df441-7adb-4b54-92ea-f9456a40f39b",
   "metadata": {},
   "outputs": [],
   "source": []
  }
 ],
 "metadata": {
  "kernelspec": {
   "display_name": "Python 3 (ipykernel)",
   "language": "python",
   "name": "python3"
  },
  "language_info": {
   "codemirror_mode": {
    "name": "ipython",
    "version": 3
   },
   "file_extension": ".py",
   "mimetype": "text/x-python",
   "name": "python",
   "nbconvert_exporter": "python",
   "pygments_lexer": "ipython3",
   "version": "3.11.7"
  }
 },
 "nbformat": 4,
 "nbformat_minor": 5
}
