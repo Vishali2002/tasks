{
 "cells": [
  {
   "cell_type": "markdown",
   "id": "1f3c7210-d64f-47bc-be7a-dfaeeac2fe7f",
   "metadata": {},
   "source": [
    "**Assignment 6**\n",
    "\n",
    "**Image and Video Analytics**\n",
    "\n",
    "**Vishali Sharma**\n",
    "\n",
    "**21MIA1066**\n",
    "\n",
    "Task 6: Spotting and Counting a Branded Car in a Video"
   ]
  },
  {
   "cell_type": "markdown",
   "id": "872f253c-e10d-4b9b-8b73-dfaad8532789",
   "metadata": {},
   "source": [
    "Objective:\n",
    "Identify and count the number of branded cars (e.g., a specific logo or color) in a video sequence using feature-based matching."
   ]
  },
  {
   "cell_type": "markdown",
   "id": "9a90ffc2-63f2-4892-80c4-12b21150b441",
   "metadata": {},
   "source": [
    "**Task Description:**\n",
    "\n",
    "**Load Video:**\n",
    "\n",
    "**Load the provided video showing vehicles.**"
   ]
  },
  {
   "cell_type": "markdown",
   "id": "a9200fdf-4852-45d0-a372-4458e9e12608",
   "metadata": {},
   "source": [
    "**Car Detection:**\n",
    "\n",
    "**Use background subtraction or motion detection to detect moving cars in the video.**"
   ]
  },
  {
   "cell_type": "markdown",
   "id": "8af42f29-7910-4564-aaae-904737a48170",
   "metadata": {},
   "source": [
    "**Feature Matching:**\n",
    "\n",
    "**Use color-based detection or template matching to identify the specific branded car (e.g., a car with a specific color or logo).**\n",
    "\n",
    "**Track the occurrence of this branded car across the video frames.**"
   ]
  },
  {
   "cell_type": "markdown",
   "id": "4eb1b917-52a8-4fce-920b-2ae5a1fc4d23",
   "metadata": {},
   "source": [
    "**Counting:**\n",
    "\n",
    "**Count the number of times the branded car appears in the video.**"
   ]
  },
  {
   "cell_type": "markdown",
   "id": "11c9d8ba-b6ce-4c3f-8f78-6b76e76bc41a",
   "metadata": {},
   "source": [
    "**Result:**\n",
    "\n",
    "**Output the total count and display the frames where the branded car is detected.**"
   ]
  },
  {
   "cell_type": "code",
   "execution_count": null,
   "id": "156865c5-e3ec-4fe3-b060-c19a6a482471",
   "metadata": {},
   "outputs": [],
   "source": [
    "import cv2\n",
    "import numpy as np\n",
    "\n",
    "# Path to the uploaded video\n",
    "video_path =\"task_6.mp4\"\n",
    "\n",
    "# Load the video\n",
    "cap = cv2.VideoCapture(video_path)\n",
    "\n",
    "# Check if video loaded successfully\n",
    "if not cap.isOpened():\n",
    "    raise Exception(\"Error: Could not open video file.\")\n",
    "\n",
    "# Background subtractor for motion detection\n",
    "fgbg = cv2.createBackgroundSubtractorMOG2()\n",
    "\n",
    "# Define refined color ranges for black, white, brown, and red cars in HSV color space\n",
    "color_ranges = {\n",
    "    \"black\": ((0, 0, 0), (180, 500, 40)),  # Restricting upper limit for black\n",
    "    \"white\": ((0, 0, 200), (180, 30, 255)),  # Narrowing white's brightness threshold\n",
    "    \"brown\": ((10, 100, 50), (20, 255, 200)),  # More precise for brown range\n",
    "    \"red1\": ((0, 70, 50), (10, 255, 255)),  # First range for red\n",
    "    \"red2\": ((160, 70, 50), (180, 255, 255)),  # Second range for red\n",
    "}\n",
    "\n",
    "# Initialize car count\n",
    "car_count = 0\n",
    "\n",
    "# Process each frame\n",
    "while cap.isOpened():\n",
    "    ret, frame = cap.read()\n",
    "    if not ret:\n",
    "        break\n",
    "    \n",
    "    # Apply background subtraction to detect moving objects\n",
    "    fgmask = fgbg.apply(frame)\n",
    "    _, fgmask = cv2.threshold(fgmask, 200, 255, cv2.THRESH_BINARY)\n",
    "    \n",
    "    # Find contours of the detected areas\n",
    "    contours, _ = cv2.findContours(fgmask, cv2.RETR_EXTERNAL, cv2.CHAIN_APPROX_SIMPLE)\n",
    "    \n",
    "    # Filter and process each contour\n",
    "    for cnt in contours:\n",
    "        if cv2.contourArea(cnt) < 500:  # Minimum area to filter noise\n",
    "            continue\n",
    "        \n",
    "        # Get bounding box for each detected car\n",
    "        x, y, w, h = cv2.boundingRect(cnt)\n",
    "        car_roi = frame[y:y+h, x:x+w]  # Region of interest (ROI) for the car\n",
    "        \n",
    "        # Convert ROI to HSV color space\n",
    "        hsv_roi = cv2.cvtColor(car_roi, cv2.COLOR_BGR2HSV)\n",
    "        \n",
    "        # Check for branded car color match and set label\n",
    "        color_label = None\n",
    "        for color, (lower, upper) in color_ranges.items():\n",
    "            if color == \"red2\":\n",
    "                # Second range for red color (as red wraps in HSV)\n",
    "                mask = cv2.inRange(hsv_roi, color_ranges[\"red1\"][0], color_ranges[\"red1\"][1]) | \\\n",
    "                       cv2.inRange(hsv_roi, color_ranges[\"red2\"][0], color_ranges[\"red2\"][1])\n",
    "            else:\n",
    "                mask = cv2.inRange(hsv_roi, np.array(lower), np.array(upper))\n",
    "            \n",
    "            # Check if a sufficient area within the ROI matches the color\n",
    "            if cv2.countNonZero(mask) > (0.2 * w * h):  # At least 20% of the area matches\n",
    "                color_label = color\n",
    "                car_count += 1\n",
    "                break\n",
    "\n",
    "        # Draw bounding box and color label if a branded car was detected\n",
    "        if color_label:\n",
    "            cv2.rectangle(frame, (x, y), (x+w, y+h), (0, 255, 0), 2)\n",
    "            cv2.putText(frame, color_label, (x, y - 10), cv2.FONT_HERSHEY_SIMPLEX, 0.5, (0, 255, 0), 2)\n",
    "    \n",
    "    # Display the frame with detections\n",
    "    cv2.imshow('Branded Car Detection', frame)\n",
    "    \n",
    "    # Break the loop when 'q' is pressed\n",
    "    if cv2.waitKey(1) & 0xFF == ord('q'):\n",
    "        break\n",
    "\n",
    "# Release the video capture and close all OpenCV windows\n",
    "cap.release()\n",
    "cv2.destroyAllWindows()\n",
    "\n",
    "# Print the total count of detected branded cars\n",
    "print(f\"Total car detections: {car_count}\")"
   ]
  },
  {
   "cell_type": "code",
   "execution_count": null,
   "id": "8f278000-ff93-4c9b-b8a6-10ce83cc0c35",
   "metadata": {},
   "outputs": [],
   "source": []
  }
 ],
 "metadata": {
  "kernelspec": {
   "display_name": "Python 3 (ipykernel)",
   "language": "python",
   "name": "python3"
  },
  "language_info": {
   "codemirror_mode": {
    "name": "ipython",
    "version": 3
   },
   "file_extension": ".py",
   "mimetype": "text/x-python",
   "name": "python",
   "nbconvert_exporter": "python",
   "pygments_lexer": "ipython3",
   "version": "3.11.7"
  }
 },
 "nbformat": 4,
 "nbformat_minor": 5
}
